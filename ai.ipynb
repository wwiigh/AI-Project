{
  "nbformat": 4,
  "nbformat_minor": 0,
  "metadata": {
    "colab": {
      "provenance": [],
      "gpuType": "V100",
      "authorship_tag": "ABX9TyOUTcxSEI52qwC66U0Y+knJ",
      "include_colab_link": true
    },
    "kernelspec": {
      "name": "python3",
      "display_name": "Python 3"
    },
    "language_info": {
      "name": "python"
    },
    "accelerator": "GPU"
  },
  "cells": [
    {
      "cell_type": "markdown",
      "metadata": {
        "id": "view-in-github",
        "colab_type": "text"
      },
      "source": [
        "<a href=\"https://colab.research.google.com/github/wwiigh/AI-Project/blob/dataset2/ai.ipynb\" target=\"_parent\"><img src=\"https://colab.research.google.com/assets/colab-badge.svg\" alt=\"Open In Colab\"/></a>"
      ]
    },
    {
      "cell_type": "code",
      "execution_count": 1,
      "metadata": {
        "id": "xQ67hzhaQuJ-",
        "colab": {
          "base_uri": "https://localhost:8080/"
        },
        "outputId": "12a27a77-47ec-43fb-dd29-07353f4280db"
      },
      "outputs": [
        {
          "output_type": "stream",
          "name": "stdout",
          "text": [
            "/content\n",
            "Cloning into 'AI-Project'...\n",
            "remote: Enumerating objects: 21, done.\u001b[K\n",
            "remote: Counting objects: 100% (21/21), done.\u001b[K\n",
            "remote: Compressing objects: 100% (19/19), done.\u001b[K\n",
            "remote: Total 21 (delta 2), reused 9 (delta 1), pack-reused 0\u001b[K\n",
            "Receiving objects: 100% (21/21), 671.89 KiB | 7.38 MiB/s, done.\n",
            "Resolving deltas: 100% (2/2), done.\n",
            "/content/AI-Project\n",
            "now branch\n",
            "* \u001b[32mmain\u001b[m\n",
            "\n",
            "total branch\n",
            "* \u001b[32mmain\u001b[m\n",
            "  \u001b[31mremotes/origin/HEAD\u001b[m -> origin/main\n",
            "  \u001b[31mremotes/origin/dataset1\u001b[m\n",
            "  \u001b[31mremotes/origin/dataset2\u001b[m\n",
            "  \u001b[31mremotes/origin/main\u001b[m\n",
            "  \u001b[31mremotes/origin/question1\u001b[m\n",
            "  \u001b[31mremotes/origin/question2\u001b[m\n",
            "\n",
            "change from main to dataset2\n",
            "Branch 'dataset2' set up to track remote branch 'dataset2' from 'origin'.\n",
            "Switched to a new branch 'dataset2'\n",
            "* \u001b[32mdataset2\u001b[m\n",
            "  main\u001b[m\n"
          ]
        }
      ],
      "source": [
        "%cd /content\n",
        "!git clone https://github.com/wwiigh/AI-Project.git\n",
        "%cd /content/AI-Project\n",
        "print(\"now branch\")\n",
        "!git branch\n",
        "print(\"\\ntotal branch\")\n",
        "!git branch -a\n",
        "print(\"\\nchange from main to dataset2\")\n",
        "!git checkout dataset2\n",
        "!git branch"
      ]
    },
    {
      "cell_type": "code",
      "source": [
        "!python process.py"
      ],
      "metadata": {
        "colab": {
          "base_uri": "https://localhost:8080/"
        },
        "id": "1GlzEN-3T9BF",
        "outputId": "d7986bb9-5c72-4885-d352-87b9c3cfaf55"
      },
      "execution_count": 2,
      "outputs": [
        {
          "output_type": "stream",
          "name": "stdout",
          "text": [
            "0    Title:\\nNo-Bake Nut Cookies\\n\\nIngredients:\\n1...\n",
            "1    Title:\\nJewell Ball'S Chicken\\n\\nIngredients:\\...\n",
            "2    Title:\\nCreamy Corn\\n\\nIngredients:\\n2 (16 oz....\n",
            "3    Title:\\nChicken Funny\\n\\nIngredients:\\n1 large...\n",
            "4    Title:\\nReeses Cups(Candy)  \\n\\nIngredients:\\n...\n",
            "Name: full_recipe, dtype: object\n",
            "Title:\n",
            "No-Bake Nut Cookies\n",
            "\n",
            "Ingredients:\n",
            "1 c. firmly packed brown sugar\n",
            "1/2 c. evaporated milk\n",
            "1/2 tsp. vanilla\n",
            "1/2 c. broken nuts (pecans)\n",
            "2 tbsp. butter or margarine\n",
            "3 1/2 c. bite size shredded rice biscuits\n",
            "\n",
            "Directions:\n",
            "in a heavy 2-quart saucepan, mix brown sugar, nuts, evaporated milk and butter or margarine.\n",
            "stir over medium heat until mixture bubbles all over top.\n",
            "boil and stir 5 minutes more. take off heat.\n",
            "stir in vanilla and cereal; mix well.\n",
            "using 2 teaspoons, drop and shape into 30 clusters on wax paper.\n",
            "let stand until firm, about 30 minutes.\n",
            "\n",
            "NER:\n",
            "bite size shredded rice biscuits, vanilla, brown sugar, nuts, milk, butter\n"
          ]
        }
      ]
    },
    {
      "cell_type": "code",
      "source": [
        "pip install accelerate -U"
      ],
      "metadata": {
        "colab": {
          "base_uri": "https://localhost:8080/"
        },
        "id": "M9-nUxKAUZuc",
        "outputId": "6ae22709-0d33-49e0-9577-15155e250476"
      },
      "execution_count": 3,
      "outputs": [
        {
          "output_type": "stream",
          "name": "stdout",
          "text": [
            "Collecting accelerate\n",
            "  Downloading accelerate-0.29.3-py3-none-any.whl (297 kB)\n",
            "\u001b[?25l     \u001b[90m━━━━━━━━━━━━━━━━━━━━━━━━━━━━━━━━━━━━━━━━\u001b[0m \u001b[32m0.0/297.6 kB\u001b[0m \u001b[31m?\u001b[0m eta \u001b[36m-:--:--\u001b[0m\r\u001b[2K     \u001b[91m━━━━━━━━━━━━━━━━━━━━━━\u001b[0m\u001b[90m╺\u001b[0m\u001b[90m━━━━━━━━━━━━━━━━━\u001b[0m \u001b[32m163.8/297.6 kB\u001b[0m \u001b[31m4.7 MB/s\u001b[0m eta \u001b[36m0:00:01\u001b[0m\r\u001b[2K     \u001b[90m━━━━━━━━━━━━━━━━━━━━━━━━━━━━━━━━━━━━━━━━\u001b[0m \u001b[32m297.6/297.6 kB\u001b[0m \u001b[31m5.2 MB/s\u001b[0m eta \u001b[36m0:00:00\u001b[0m\n",
            "\u001b[?25hRequirement already satisfied: numpy>=1.17 in /usr/local/lib/python3.10/dist-packages (from accelerate) (1.25.2)\n",
            "Requirement already satisfied: packaging>=20.0 in /usr/local/lib/python3.10/dist-packages (from accelerate) (24.0)\n",
            "Requirement already satisfied: psutil in /usr/local/lib/python3.10/dist-packages (from accelerate) (5.9.5)\n",
            "Requirement already satisfied: pyyaml in /usr/local/lib/python3.10/dist-packages (from accelerate) (6.0.1)\n",
            "Requirement already satisfied: torch>=1.10.0 in /usr/local/lib/python3.10/dist-packages (from accelerate) (2.2.1+cu121)\n",
            "Requirement already satisfied: huggingface-hub in /usr/local/lib/python3.10/dist-packages (from accelerate) (0.20.3)\n",
            "Requirement already satisfied: safetensors>=0.3.1 in /usr/local/lib/python3.10/dist-packages (from accelerate) (0.4.3)\n",
            "Requirement already satisfied: filelock in /usr/local/lib/python3.10/dist-packages (from torch>=1.10.0->accelerate) (3.13.4)\n",
            "Requirement already satisfied: typing-extensions>=4.8.0 in /usr/local/lib/python3.10/dist-packages (from torch>=1.10.0->accelerate) (4.11.0)\n",
            "Requirement already satisfied: sympy in /usr/local/lib/python3.10/dist-packages (from torch>=1.10.0->accelerate) (1.12)\n",
            "Requirement already satisfied: networkx in /usr/local/lib/python3.10/dist-packages (from torch>=1.10.0->accelerate) (3.3)\n",
            "Requirement already satisfied: jinja2 in /usr/local/lib/python3.10/dist-packages (from torch>=1.10.0->accelerate) (3.1.3)\n",
            "Requirement already satisfied: fsspec in /usr/local/lib/python3.10/dist-packages (from torch>=1.10.0->accelerate) (2023.6.0)\n",
            "Collecting nvidia-cuda-nvrtc-cu12==12.1.105 (from torch>=1.10.0->accelerate)\n",
            "  Using cached nvidia_cuda_nvrtc_cu12-12.1.105-py3-none-manylinux1_x86_64.whl (23.7 MB)\n",
            "Collecting nvidia-cuda-runtime-cu12==12.1.105 (from torch>=1.10.0->accelerate)\n",
            "  Using cached nvidia_cuda_runtime_cu12-12.1.105-py3-none-manylinux1_x86_64.whl (823 kB)\n",
            "Collecting nvidia-cuda-cupti-cu12==12.1.105 (from torch>=1.10.0->accelerate)\n",
            "  Using cached nvidia_cuda_cupti_cu12-12.1.105-py3-none-manylinux1_x86_64.whl (14.1 MB)\n",
            "Collecting nvidia-cudnn-cu12==8.9.2.26 (from torch>=1.10.0->accelerate)\n",
            "  Using cached nvidia_cudnn_cu12-8.9.2.26-py3-none-manylinux1_x86_64.whl (731.7 MB)\n",
            "Collecting nvidia-cublas-cu12==12.1.3.1 (from torch>=1.10.0->accelerate)\n",
            "  Using cached nvidia_cublas_cu12-12.1.3.1-py3-none-manylinux1_x86_64.whl (410.6 MB)\n",
            "Collecting nvidia-cufft-cu12==11.0.2.54 (from torch>=1.10.0->accelerate)\n",
            "  Using cached nvidia_cufft_cu12-11.0.2.54-py3-none-manylinux1_x86_64.whl (121.6 MB)\n",
            "Collecting nvidia-curand-cu12==10.3.2.106 (from torch>=1.10.0->accelerate)\n",
            "  Using cached nvidia_curand_cu12-10.3.2.106-py3-none-manylinux1_x86_64.whl (56.5 MB)\n",
            "Collecting nvidia-cusolver-cu12==11.4.5.107 (from torch>=1.10.0->accelerate)\n",
            "  Using cached nvidia_cusolver_cu12-11.4.5.107-py3-none-manylinux1_x86_64.whl (124.2 MB)\n",
            "Collecting nvidia-cusparse-cu12==12.1.0.106 (from torch>=1.10.0->accelerate)\n",
            "  Using cached nvidia_cusparse_cu12-12.1.0.106-py3-none-manylinux1_x86_64.whl (196.0 MB)\n",
            "Collecting nvidia-nccl-cu12==2.19.3 (from torch>=1.10.0->accelerate)\n",
            "  Using cached nvidia_nccl_cu12-2.19.3-py3-none-manylinux1_x86_64.whl (166.0 MB)\n",
            "Collecting nvidia-nvtx-cu12==12.1.105 (from torch>=1.10.0->accelerate)\n",
            "  Using cached nvidia_nvtx_cu12-12.1.105-py3-none-manylinux1_x86_64.whl (99 kB)\n",
            "Requirement already satisfied: triton==2.2.0 in /usr/local/lib/python3.10/dist-packages (from torch>=1.10.0->accelerate) (2.2.0)\n",
            "Collecting nvidia-nvjitlink-cu12 (from nvidia-cusolver-cu12==11.4.5.107->torch>=1.10.0->accelerate)\n",
            "  Using cached nvidia_nvjitlink_cu12-12.4.127-py3-none-manylinux2014_x86_64.whl (21.1 MB)\n",
            "Requirement already satisfied: requests in /usr/local/lib/python3.10/dist-packages (from huggingface-hub->accelerate) (2.31.0)\n",
            "Requirement already satisfied: tqdm>=4.42.1 in /usr/local/lib/python3.10/dist-packages (from huggingface-hub->accelerate) (4.66.2)\n",
            "Requirement already satisfied: MarkupSafe>=2.0 in /usr/local/lib/python3.10/dist-packages (from jinja2->torch>=1.10.0->accelerate) (2.1.5)\n",
            "Requirement already satisfied: charset-normalizer<4,>=2 in /usr/local/lib/python3.10/dist-packages (from requests->huggingface-hub->accelerate) (3.3.2)\n",
            "Requirement already satisfied: idna<4,>=2.5 in /usr/local/lib/python3.10/dist-packages (from requests->huggingface-hub->accelerate) (3.7)\n",
            "Requirement already satisfied: urllib3<3,>=1.21.1 in /usr/local/lib/python3.10/dist-packages (from requests->huggingface-hub->accelerate) (2.0.7)\n",
            "Requirement already satisfied: certifi>=2017.4.17 in /usr/local/lib/python3.10/dist-packages (from requests->huggingface-hub->accelerate) (2024.2.2)\n",
            "Requirement already satisfied: mpmath>=0.19 in /usr/local/lib/python3.10/dist-packages (from sympy->torch>=1.10.0->accelerate) (1.3.0)\n",
            "Installing collected packages: nvidia-nvtx-cu12, nvidia-nvjitlink-cu12, nvidia-nccl-cu12, nvidia-curand-cu12, nvidia-cufft-cu12, nvidia-cuda-runtime-cu12, nvidia-cuda-nvrtc-cu12, nvidia-cuda-cupti-cu12, nvidia-cublas-cu12, nvidia-cusparse-cu12, nvidia-cudnn-cu12, nvidia-cusolver-cu12, accelerate\n",
            "Successfully installed accelerate-0.29.3 nvidia-cublas-cu12-12.1.3.1 nvidia-cuda-cupti-cu12-12.1.105 nvidia-cuda-nvrtc-cu12-12.1.105 nvidia-cuda-runtime-cu12-12.1.105 nvidia-cudnn-cu12-8.9.2.26 nvidia-cufft-cu12-11.0.2.54 nvidia-curand-cu12-10.3.2.106 nvidia-cusolver-cu12-11.4.5.107 nvidia-cusparse-cu12-12.1.0.106 nvidia-nccl-cu12-2.19.3 nvidia-nvjitlink-cu12-12.4.127 nvidia-nvtx-cu12-12.1.105\n"
          ]
        }
      ]
    },
    {
      "cell_type": "code",
      "source": [
        "!python train.py"
      ],
      "metadata": {
        "colab": {
          "base_uri": "https://localhost:8080/"
        },
        "id": "ND2qDG8OUCzM",
        "outputId": "15c16b72-dd1a-4bb1-adba-35a2743ea731"
      },
      "execution_count": 4,
      "outputs": [
        {
          "output_type": "stream",
          "name": "stdout",
          "text": [
            "2024-04-22 15:14:49.726799: E external/local_xla/xla/stream_executor/cuda/cuda_dnn.cc:9261] Unable to register cuDNN factory: Attempting to register factory for plugin cuDNN when one has already been registered\n",
            "2024-04-22 15:14:49.726856: E external/local_xla/xla/stream_executor/cuda/cuda_fft.cc:607] Unable to register cuFFT factory: Attempting to register factory for plugin cuFFT when one has already been registered\n",
            "2024-04-22 15:14:49.728224: E external/local_xla/xla/stream_executor/cuda/cuda_blas.cc:1515] Unable to register cuBLAS factory: Attempting to register factory for plugin cuBLAS when one has already been registered\n",
            "2024-04-22 15:14:51.336109: W tensorflow/compiler/tf2tensorrt/utils/py_utils.cc:38] TF-TRT Warning: Could not find TensorRT\n",
            "tokenizer_config.json: 100% 26.0/26.0 [00:00<00:00, 137kB/s]\n",
            "vocab.json: 100% 1.04M/1.04M [00:00<00:00, 4.39MB/s]\n",
            "merges.txt: 100% 456k/456k [00:00<00:00, 2.79MB/s]\n",
            "tokenizer.json: 100% 1.36M/1.36M [00:00<00:00, 4.99MB/s]\n",
            "config.json: 100% 665/665 [00:00<00:00, 3.34MB/s]\n",
            "model.safetensors: 100% 548M/548M [00:01<00:00, 274MB/s]\n",
            "generation_config.json: 100% 124/124 [00:00<00:00, 647kB/s]\n",
            "/usr/local/lib/python3.10/dist-packages/transformers/data/datasets/language_modeling.py:53: FutureWarning: This dataset will be removed from the library soon, preprocessing should be handled with the 🤗 Datasets library. You can have a look at this example script for pointers: https://github.com/huggingface/transformers/blob/main/examples/pytorch/language-modeling/run_mlm.py\n",
            "  warnings.warn(\n",
            "/usr/local/lib/python3.10/dist-packages/accelerate/accelerator.py:436: FutureWarning: Passing the following arguments to `Accelerator` is deprecated and will be removed in version 1.0 of Accelerate: dict_keys(['dispatch_batches', 'split_batches', 'even_batches', 'use_seedable_sampler']). Please pass an `accelerate.DataLoaderConfiguration` instead: \n",
            "dataloader_config = DataLoaderConfiguration(dispatch_batches=None, split_batches=False, even_batches=True, use_seedable_sampler=True)\n",
            "  warnings.warn(\n",
            "{'loss': 2.0835, 'grad_norm': 6.380353927612305, 'learning_rate': 2.3958333333333334e-05, 'epoch': 1.56}\n",
            "{'train_runtime': 62.2847, 'train_samples_per_second': 61.652, 'train_steps_per_second': 15.413, 'train_loss': 1.9645418167114257, 'epoch': 3.0}\n",
            "100% 960/960 [01:02<00:00, 15.41it/s]\n"
          ]
        }
      ]
    },
    {
      "cell_type": "code",
      "source": [
        "!python test.py"
      ],
      "metadata": {
        "colab": {
          "base_uri": "https://localhost:8080/"
        },
        "id": "TOZnjrzTaOyk",
        "outputId": "3b12e965-c13b-414c-9cb5-43bb63d3c070"
      },
      "execution_count": 6,
      "outputs": [
        {
          "output_type": "stream",
          "name": "stdout",
          "text": [
            "2024-04-22 15:26:38.467430: E external/local_xla/xla/stream_executor/cuda/cuda_dnn.cc:9261] Unable to register cuDNN factory: Attempting to register factory for plugin cuDNN when one has already been registered\n",
            "2024-04-22 15:26:38.467496: E external/local_xla/xla/stream_executor/cuda/cuda_fft.cc:607] Unable to register cuFFT factory: Attempting to register factory for plugin cuFFT when one has already been registered\n",
            "2024-04-22 15:26:38.469642: E external/local_xla/xla/stream_executor/cuda/cuda_blas.cc:1515] Unable to register cuBLAS factory: Attempting to register factory for plugin cuBLAS when one has already been registered\n",
            "2024-04-22 15:26:41.634129: W tensorflow/compiler/tf2tensorrt/utils/py_utils.cc:38] TF-TRT Warning: Could not find TensorRT\n",
            "Truncation was not explicitly activated but `max_length` is provided a specific value, please use `truncation=True` to explicitly truncate examples to max length. Defaulting to 'longest_first' truncation strategy. If you encode pairs of sequences (GLUE-style) with the tokenizer you can select this strategy more precisely by providing a specific strategy to `truncation`.\n",
            "Setting `pad_token_id` to `eos_token_id`:50256 for open-end generation.\n",
            "chocolate cake mix\n",
            "\n",
            "Directions:\n",
            "cream chocolate cake mixture until combined.\n",
            "sprinkle over cake mixture.\n",
            "spread evenly in prepared pan.\n",
            "cook 5 to 6 hours.\n",
            "cool 30 minutes.\n",
            "combine whipped topping with remaining chocolate cake and mix well.\n",
            "bake at 375° for 55 to 65 minutes.\n",
            "let cool on wire rack.\n",
            "makes about 20 muffins.\n",
            "\n",
            "NER:\n",
            "cream of mushroom soup, chocolate cake, graham cracker crumbs\"\n",
            "\"Title:\n",
            "Ham Cones\n",
            "\n",
            "Ingredients:\n",
            "1 can cream cheese\n",
            "1 stick butter\n",
            "3 c. raisins, melted\n",
            "2 c. all-purpose flour\n",
            "2 c. sugar\n",
            "2 c. milk\n",
            "2 eggs, beaten\n",
            "1 c. milk\n",
            "2 c. semi-sweet chocolate chips\n",
            "\n",
            "Directions:\n",
            "set aside.\n",
            "in a 1 1/2-quart casserole at 350°, mix whole eggs and butter.\n",
            "in a large bowl, beat together flour, salt and soda until stiff peaks form.\n",
            "add remaining ingredients.\n",
            "in slow cooker, saute bacon, eggs and raisins on bacon until thick and bubbly. sprinkle with raisins.\n",
            "bake at 350° for 30 to 35 minutes, or until the butter starts to thicken.\n",
            "serves 4.\n",
            "\n",
            "NER:\n",
            "eggs, raisins, butter, margarine\"\n",
            "\"Title:\n",
            "Old Fashioned Salad(Red And Confectioners)  \n",
            "\n",
            "Ingredients:\n",
            "1 1/2 sticks butter\n",
            "1 c. flour (sifted)\n",
            "3 c. milk\n",
            "1 tbsp. sugar\n",
            "1 tbsp. salt\n",
            "1 c. margarine flakes\n",
            "1 c. crisco\n",
            "3 c. flour\n",
            "\n",
            "Directions:\n",
            "in large mixing bowl, beat eggs, sugar, crisco and milk.\n",
            "add margarine flakes and vanilla.\n",
            "in a 4-\n"
          ]
        }
      ]
    }
  ]
}